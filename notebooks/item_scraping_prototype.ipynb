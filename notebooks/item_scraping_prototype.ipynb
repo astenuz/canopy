{
 "cells": [
  {
   "cell_type": "code",
   "execution_count": null,
   "metadata": {},
   "outputs": [],
   "source": [
    "from bs4 import BeautifulSoup\n",
    "import requests\n",
    "\n",
    "# 'https://community.secop.gov.co/Public/Tendering/OpportunityDetail/Index?noticeUID=CO1.NTC.1221854&isFromPublicArea=True&isModal=true&asPopupView=true'\n",
    "\n",
    "\n",
    "r  = requests.get('https://community.secop.gov.co/Public/Tendering/OpportunityDetail/Index?noticeUID=CO1.NTC.1223758&isFromPublicArea=True&isModal=true&asPopupView=true')\n",
    "data = r.text\n",
    "soup = BeautifulSoup(data, \"html.parser\")\n",
    "\n",
    "for link in soup.find_all('a'):\n",
    "    print(link.get('href'))\n"
   ]
  },
  {
   "cell_type": "code",
   "execution_count": null,
   "metadata": {},
   "outputs": [],
   "source": [
    "items = soup.select('table.PriceListLineTable')"
   ]
  },
  {
   "cell_type": "code",
   "execution_count": null,
   "metadata": {},
   "outputs": [],
   "source": [
    "items[0].find_all('td')[4].text.strip()"
   ]
  },
  {
   "cell_type": "code",
   "execution_count": null,
   "metadata": {},
   "outputs": [],
   "source": [
    "def parse_number(number_str):\n",
    "    # removes leginility dots\n",
    "    number_str = number_str.replace('.', '')\n",
    "    # replaces comma with dot for float\n",
    "    number_str = number_str.replace(',', '.')\n",
    "    \n",
    "    try: \n",
    "        num = float(number_str)\n",
    "        return num\n",
    "    except ValueError:\n",
    "        return None\n",
    "    "
   ]
  },
  {
   "cell_type": "code",
   "execution_count": null,
   "metadata": {},
   "outputs": [],
   "source": [
    "items[0].find_all('td')[2].text.strip()"
   ]
  },
  {
   "cell_type": "code",
   "execution_count": null,
   "metadata": {},
   "outputs": [],
   "source": [
    "num = parse_number(items[0].find_all('td')[6].text.strip())"
   ]
  },
  {
   "cell_type": "code",
   "execution_count": null,
   "metadata": {},
   "outputs": [],
   "source": [
    "num"
   ]
  },
  {
   "cell_type": "code",
   "execution_count": null,
   "metadata": {},
   "outputs": [],
   "source": [
    "from typing import NamedTuple\n",
    "\n",
    "class Item(NamedTuple):\n",
    "    code: str\n",
    "    description: str\n",
    "    quantity: float\n",
    "    unit: str\n",
    "    price: float\n",
    "        \n",
    "class ItemFinderSecop2:\n",
    "        \n",
    "    def parse_single_item(self, html_item):\n",
    "        tds = html_item.find_all('td')\n",
    "        texts = [td.text.strip() for td in tds]\n",
    "        \n",
    "        return Item(\n",
    "            code=texts[1],\n",
    "            description=texts[3],\n",
    "            quantity=parse_number(texts[4]),\n",
    "            unit=texts[5],\n",
    "            price = parse_number(texts[6])\n",
    "        )\n",
    "        \n",
    "    def find_items(self, url):\n",
    "        r  = requests.get(url)\n",
    "        data = r.text\n",
    "        soup = BeautifulSoup(data, \"html.parser\")\n",
    "        \n",
    "        items_html = soup.select('table.PriceListLineTable')\n",
    "        items = [self.parse_single_item(item) for item in items_html]\n",
    "        \n",
    "        return items"
   ]
  },
  {
   "cell_type": "code",
   "execution_count": null,
   "metadata": {},
   "outputs": [],
   "source": [
    "finder = ItemFinderSecop2()"
   ]
  },
  {
   "cell_type": "code",
   "execution_count": null,
   "metadata": {},
   "outputs": [],
   "source": [
    "url = 'https://community.secop.gov.co/Public/Tendering/OpportunityDetail/Index?noticeUID=CO1.NTC.1221854&isFromPublicArea=True&isModal=true&asPopupView=true'\n",
    "finder.find_items(url)"
   ]
  },
  {
   "cell_type": "code",
   "execution_count": null,
   "metadata": {},
   "outputs": [],
   "source": [
    "secop_2"
   ]
  }
 ],
 "metadata": {
  "kernelspec": {
   "display_name": "Python 3",
   "language": "python",
   "name": "python3"
  },
  "language_info": {
   "codemirror_mode": {
    "name": "ipython",
    "version": 3
   },
   "file_extension": ".py",
   "mimetype": "text/x-python",
   "name": "python",
   "nbconvert_exporter": "python",
   "pygments_lexer": "ipython3",
   "version": "3.8.2"
  }
 },
 "nbformat": 4,
 "nbformat_minor": 4
}
