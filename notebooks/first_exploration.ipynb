{
 "cells": [
  {
   "cell_type": "code",
   "execution_count": null,
   "metadata": {},
   "outputs": [],
   "source": [
    "import pandas as pd\n",
    "import numpy as np"
   ]
  },
  {
   "cell_type": "code",
   "execution_count": null,
   "metadata": {},
   "outputs": [],
   "source": [
    "pd.options.display.max_columns = None"
   ]
  },
  {
   "cell_type": "code",
   "execution_count": null,
   "metadata": {},
   "outputs": [],
   "source": [
    "secop_1_covid = pd.read_pickle('../data/secop_1_covid.pkl')\n",
    "secop_2_covid = pd.read_pickle('../data/secop_2_covid.pkl')"
   ]
  },
  {
   "cell_type": "code",
   "execution_count": null,
   "metadata": {},
   "outputs": [],
   "source": [
    "secop_2_cols =[\n",
    "    'nombre_entidad', 'nit_entidad', \n",
    "    'departamento', 'ciudad', 'orden', 'sector', 'rama', 'entidad_centralizada',\n",
    "    'proceso_de_compra', 'id_contrato', 'referencia_del_contrato', 'estado_contrato',\n",
    "    'codigo_de_categoria_principal',\n",
    "    'descripcion_del_proceso', 'tipo_de_contrato',\n",
    "    'modalidad_de_contratacion', 'justificacion_modalidad_de',\n",
    "    'fecha_de_firma', 'fecha_de_inicio_del_contrato',\n",
    "    'fecha_de_fin_del_contrato', 'fecha_de_inicio_de_ejecucion','fecha_de_fin_de_ejecucion', \n",
    "    'condiciones_de_entrega',\n",
    "    'tipodocproveedor', 'documento_proveedor', 'proveedor_adjudicado',\n",
    "    'es_grupo', 'es_pyme', \n",
    "    'liquidaci_n', 'reversion',\n",
    "    'valor_del_contrato', 'valor_de_pago_adelantado', 'valor_facturado',\n",
    "    'valor_pendiente_de_pago', 'valor_pagado', 'valor_amortizado',\n",
    "    'valor_pendiente_de', 'valor_pendiente_de_ejecucion', \n",
    "    'urlproceso', \n",
    "    'destino_gasto',\n",
    "    'espostconflicto'\n",
    "    'origen_de_los_recursos'\n",
    "]"
   ]
  },
  {
   "cell_type": "code",
   "execution_count": null,
   "metadata": {},
   "outputs": [],
   "source": [
    "column_map = {\n",
    "    'nombre_de_la_entidad': 'nombre_entidad',\n",
    "    'nit_de_la_entidad': 'nit_entidad',\n",
    "    'departamento_entidad': 'departamento',\n",
    "    'municipio_entidad': 'ciudad',\n",
    "    'nivel_entidad': 'orden',\n",
    "    'numero_de_proceso': 'proceso_de_compra',\n",
    "    'numero_del_contrato': 'id_contrato',\n",
    "    'estado_del_proceso': 'estado_contrato',\n",
    "    'detalle_del_objeto_a_contratar': 'descripcion_del_proceso',\n",
    "    'tipo_de_contrato': 'tipo_de_contrato',\n",
    "    'tipo_de_proceso': 'modalidad_de_contratacion',\n",
    "    'fecha_de_firma_del_contrato': 'fecha_de_firma',\n",
    "    'fecha_ini_ejec_contrato': 'fecha_de_inicio_de_ejecucion',\n",
    "    'fecha_fin_ejec_contrato': 'fecha_de_fin_de_ejecucion',\n",
    "    'tipo_identifi_del_contratista': 'tipodocproveedor',\n",
    "    'identificacion_del_contratista': 'documento_proveedor',\n",
    "    'nom_raz_social_contratista': 'proveedor_adjudicado',\n",
    "    'cuantia_contrato': 'valor_del_contrato',\n",
    "    'espostconflicto': 'espostconflicto',\n",
    "    'ruta_proceso_en_secop_i': 'urlproceso',\n",
    "    'origen_de_los_recursos': 'origen_de_los_recursos',\n",
    "}"
   ]
  },
  {
   "cell_type": "markdown",
   "metadata": {},
   "source": [
    "# unification"
   ]
  },
  {
   "cell_type": "code",
   "execution_count": null,
   "metadata": {},
   "outputs": [],
   "source": [
    "list(column_map.keys())"
   ]
  },
  {
   "cell_type": "code",
   "execution_count": null,
   "metadata": {},
   "outputs": [],
   "source": [
    "# column mapping\n",
    "secop_1_covid = secop_1_covid.rename(columns=column_map)"
   ]
  },
  {
   "cell_type": "code",
   "execution_count": null,
   "metadata": {},
   "outputs": [],
   "source": [
    "# add source column\n",
    "secop_1_covid['source'] = 'secop_1'\n",
    "secop_2_covid['source'] = 'secop_2'"
   ]
  },
  {
   "cell_type": "code",
   "execution_count": null,
   "metadata": {},
   "outputs": [],
   "source": [
    "union_cols = list(column_map.values())+['source']\n",
    "\n",
    "secop_union_covid = pd.concat([secop_2_covid, secop_1_covid])\n",
    "secop_union_covid = secop_union_covid[union_cols]"
   ]
  },
  {
   "cell_type": "code",
   "execution_count": null,
   "metadata": {},
   "outputs": [],
   "source": [
    "secop_union_covid.columns"
   ]
  },
  {
   "cell_type": "code",
   "execution_count": null,
   "metadata": {},
   "outputs": [],
   "source": [
    "secop_union_covid.dtypes"
   ]
  },
  {
   "cell_type": "code",
   "execution_count": null,
   "metadata": {},
   "outputs": [],
   "source": [
    "secop_union"
   ]
  },
  {
   "cell_type": "code",
   "execution_count": null,
   "metadata": {},
   "outputs": [],
   "source": [
    "secop_union_covid.to_pickle('../data/secop_union_covid.pkl')"
   ]
  },
  {
   "cell_type": "code",
   "execution_count": null,
   "metadata": {},
   "outputs": [],
   "source": []
  }
 ],
 "metadata": {
  "kernelspec": {
   "display_name": "transparencia",
   "language": "python",
   "name": "transparencia"
  },
  "language_info": {
   "codemirror_mode": {
    "name": "ipython",
    "version": 3
   },
   "file_extension": ".py",
   "mimetype": "text/x-python",
   "name": "python",
   "nbconvert_exporter": "python",
   "pygments_lexer": "ipython3",
   "version": "3.8.2"
  }
 },
 "nbformat": 4,
 "nbformat_minor": 4
}
