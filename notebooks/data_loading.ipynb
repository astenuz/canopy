{
 "cells": [
  {
   "cell_type": "markdown",
   "metadata": {},
   "source": [
    "# Testing covid and data "
   ]
  },
  {
   "cell_type": "code",
   "execution_count": null,
   "metadata": {},
   "outputs": [],
   "source": [
    "import requests\n",
    "import pandas as pd\n",
    "from datetime import datetime\n",
    "\n",
    "# entity_name = 'INSTITUTO NACIONAL DE VÍAS (INVIAS)'\n",
    "# url_secop_i = 'https://www.datos.gov.co/resource/c82b-7jfi.json'\n",
    "# p_entity = {'nombre_de_la_entidad': entity_name,\n",
    "#             '$limit': '10000',\n",
    "#             'causal_de_otras_formas_de': 'Contratos Interadministrativos (Literal C)'}\n",
    "# r_entity = requests.get(url_secop, params=p_entity)\n",
    "# d_entity = r_entity.json()  # To .json\n",
    "# df_entity = pd.DataFrame(d_entity)  # To df\n",
    "# df_entity"
   ]
  },
  {
   "cell_type": "markdown",
   "metadata": {},
   "source": [
    "# Extraction\n",
    "SECOP I"
   ]
  },
  {
   "cell_type": "code",
   "execution_count": null,
   "metadata": {},
   "outputs": [],
   "source": [
    "# SECOP I\n",
    "url_secop_i = 'https://www.datos.gov.co/resource/c82b-7jfi.json'\n",
    "p_secop_i = {'$limit': '1000000',\n",
    "            'anno_firma_del_contrato': '2020'}\n",
    "r_secop_i = requests.get(url_secop_i, params=p_secop_i)\n",
    "d_secop_i = r_secop_i.json()  # To .json\n",
    "secop_1 = pd.DataFrame(d_secop_i)  # To df\n",
    "print(len(secop_1))\n",
    "secop_1.head(2)"
   ]
  },
  {
   "cell_type": "code",
   "execution_count": null,
   "metadata": {},
   "outputs": [],
   "source": [
    "secop_1.columns"
   ]
  },
  {
   "cell_type": "code",
   "execution_count": null,
   "metadata": {},
   "outputs": [],
   "source": [
    "covid_pattern = 'covid|coronavirus|pandemia|emergencia'"
   ]
  },
  {
   "cell_type": "code",
   "execution_count": null,
   "metadata": {},
   "outputs": [],
   "source": [
    "# secop_1['detalle_lower'] = secop_1['detalle_del_objeto_a_contratar'].str.lower()\n",
    "\n",
    "#secop_1.loc[lambda x: x.detalle_lower.str.contains(covid_pattern)].detalle_lower.to_csv('../data/secop_1_descriptions.csv', index=False, header=False)"
   ]
  },
  {
   "cell_type": "markdown",
   "metadata": {},
   "source": [
    "SECOP II"
   ]
  },
  {
   "cell_type": "code",
   "execution_count": null,
   "metadata": {},
   "outputs": [],
   "source": [
    "# SECOP II\n",
    "url_secop_ii = \"https://www.datos.gov.co/resource/jbjy-vk9h.json?$where=fecha_de_firma>='2020-01-01'\"\n",
    "p_secop_ii = {'$limit': '1000000'}\n",
    "r_secop_ii = requests.get(url_secop_ii, params=p_secop_ii)\n",
    "d_secop_ii = r_secop_ii.json()  # To .json\n",
    "secop_2 = pd.DataFrame(d_secop_ii)  # To df\n",
    "print(len(secop_2))\n",
    "secop_2.head(2)"
   ]
  },
  {
   "cell_type": "code",
   "execution_count": null,
   "metadata": {},
   "outputs": [],
   "source": [
    "secop_2 = (secop_2\n",
    "    .assign(descripcion_del_proceso = lambda x: x.descripcion_del_proceso.str.lower(),\n",
    "            fecha_de_firma = lambda x: pd.to_datetime(x.fecha_de_firma))\n",
    ")"
   ]
  },
  {
   "cell_type": "code",
   "execution_count": null,
   "metadata": {},
   "outputs": [],
   "source": [
    "secop_2.loc[lambda x: x.descripcion_del_proceso.str.lower().str.contains(covid_pattern)].shape[0]"
   ]
  },
  {
   "cell_type": "code",
   "execution_count": null,
   "metadata": {},
   "outputs": [],
   "source": [
    "secop_2.shape"
   ]
  },
  {
   "cell_type": "markdown",
   "metadata": {},
   "source": [
    "# Unification"
   ]
  },
  {
   "cell_type": "code",
   "execution_count": null,
   "metadata": {},
   "outputs": [],
   "source": [
    "column_map = {\n",
    "    'nombre_de_la_entidad': 'nombre_entidad',\n",
    "    'nit_de_la_entidad': 'nit_entidad',\n",
    "    'departamento_entidad': 'departamento',\n",
    "    'municipio_entidad': 'ciudad',\n",
    "    'nivel_entidad': 'orden',\n",
    "    'numero_de_proceso': 'proceso_de_compra',\n",
    "    'numero_del_contrato': 'id_contrato',\n",
    "    'estado_del_proceso': 'estado_contrato',\n",
    "    'detalle_del_objeto_a_contratar': 'descripcion_del_proceso',\n",
    "    'tipo_de_contrato': 'tipo_de_contrato',\n",
    "    'tipo_de_proceso': 'modalidad_de_contratacion',\n",
    "    'fecha_de_firma_del_contrato': 'fecha_de_firma',\n",
    "    'fecha_ini_ejec_contrato': 'fecha_de_inicio_de_ejecucion',\n",
    "    'fecha_fin_ejec_contrato': 'fecha_de_fin_de_ejecucion',\n",
    "    'tipo_identifi_del_contratista': 'tipodocproveedor',\n",
    "    'identificacion_del_contratista': 'documento_proveedor',\n",
    "    'nom_raz_social_contratista': 'proveedor_adjudicado',\n",
    "    'cuantia_contrato': 'valor_del_contrato',\n",
    "    'espostconflicto': 'espostconflicto',\n",
    "    'ruta_proceso_en_secop_i': 'urlproceso',\n",
    "    'origen_de_los_recursos': 'origen_de_los_recursos',\n",
    "}"
   ]
  },
  {
   "cell_type": "code",
   "execution_count": null,
   "metadata": {},
   "outputs": [],
   "source": [
    "#rename columns from covid 1 to match covid 2\n",
    "secop_1 = secop_1.rename(columns=column_map)"
   ]
  },
  {
   "cell_type": "code",
   "execution_count": null,
   "metadata": {},
   "outputs": [],
   "source": [
    "# source\n",
    "secop_1['source'] = 'secop_1'\n",
    "secop_2['source'] = 'secop_2'"
   ]
  },
  {
   "cell_type": "code",
   "execution_count": null,
   "metadata": {},
   "outputs": [],
   "source": [
    "# unification\n",
    "union_cols = list(column_map.values())+['source']\n",
    "\n",
    "secop_union = pd.concat([secop_2, secop_1])\n",
    "secop_union = secop_union[union_cols]"
   ]
  },
  {
   "cell_type": "markdown",
   "metadata": {},
   "source": [
    "## preprocessing"
   ]
  },
  {
   "cell_type": "code",
   "execution_count": null,
   "metadata": {},
   "outputs": [],
   "source": [
    "secop_union.dtypes"
   ]
  },
  {
   "cell_type": "code",
   "execution_count": null,
   "metadata": {},
   "outputs": [],
   "source": [
    "secop_union['descripcion_del_proceso'] = secop_union.descripcion_del_proceso.str.lower()"
   ]
  },
  {
   "cell_type": "code",
   "execution_count": null,
   "metadata": {},
   "outputs": [],
   "source": [
    "secop_union['fecha_de_firma'] = pd.to_datetime(secop_union.fecha_de_firma)\n",
    "secop_union['fecha_de_inicio_de_ejecucion'] = pd.to_datetime(secop_union.fecha_de_inicio_de_ejecucion)\n",
    "secop_union['fecha_de_fin_de_ejecucion'] = pd.to_datetime(secop_union.fecha_de_fin_de_ejecucion)"
   ]
  },
  {
   "cell_type": "code",
   "execution_count": null,
   "metadata": {},
   "outputs": [],
   "source": [
    "secop_union['url'] = secop_union.urlproceso.apply(lambda x: x['url'])"
   ]
  },
  {
   "cell_type": "code",
   "execution_count": null,
   "metadata": {},
   "outputs": [],
   "source": [
    "secop_union['is_covid'] = secop_union.descripcion_del_proceso.str.contains(covid_pattern)"
   ]
  },
  {
   "cell_type": "code",
   "execution_count": null,
   "metadata": {},
   "outputs": [],
   "source": [
    "# saving data \n",
    "secop_union.to_pickle('../data/secop_union_all.pickle')\n",
    "secop_union.to_csv('../data/secop_union_all.csv')"
   ]
  },
  {
   "cell_type": "code",
   "execution_count": null,
   "metadata": {},
   "outputs": [],
   "source": [
    "secop_1.to_pickle('../data/secop_1.pickle')\n",
    "secop_1.to_csv('../data/secop_1.csv')\n",
    "secop_2.to_pickle('../data/secop_2.pickle')\n",
    "secop_2.to_csv('../data/secop_2.csv')"
   ]
  },
  {
   "cell_type": "code",
   "execution_count": null,
   "metadata": {},
   "outputs": [],
   "source": [
    "secop_union.dtypes"
   ]
  },
  {
   "cell_type": "code",
   "execution_count": null,
   "metadata": {},
   "outputs": [],
   "source": [
    "# covid_separation\n",
    "secop_1_covid = secop_1.loc[lambda x: x.detalle_del_objeto_a_contratar.str.contains(covid_pattern)]"
   ]
  },
  {
   "cell_type": "code",
   "execution_count": null,
   "metadata": {},
   "outputs": [],
   "source": [
    "# covid flag\n",
    "secop_1.assign(is_covid = lambda x: x.detalle_del_objeto_a_contratar.str.)"
   ]
  },
  {
   "cell_type": "code",
   "execution_count": null,
   "metadata": {},
   "outputs": [],
   "source": [
    "secop_1_covid.shape[0]"
   ]
  },
  {
   "cell_type": "code",
   "execution_count": null,
   "metadata": {},
   "outputs": [],
   "source": [
    "secop_1_covid.reset_index(drop=True).to_feather('../data/secop_1_covid.feather')\n",
    "secop_1_covid.reset_index(drop=True).to_pickle('../data/secop_1_covid.pkl')"
   ]
  },
  {
   "cell_type": "code",
   "execution_count": null,
   "metadata": {},
   "outputs": [],
   "source": [
    "secop_2_covid = secop_2.loc[lambda x: x.descripcion_del_proceso.str.contains('covid|coronavirus|pandemia|emergencia')]"
   ]
  },
  {
   "cell_type": "code",
   "execution_count": null,
   "metadata": {},
   "outputs": [],
   "source": [
    "secop_2_covid.shape[0]"
   ]
  },
  {
   "cell_type": "code",
   "execution_count": null,
   "metadata": {},
   "outputs": [],
   "source": [
    "secop_2_covid.reset_index(drop=True).to_feather('../data/secop_2_covid.feather')\n",
    "secop_2_covid.reset_index(drop=True).to_pickle('../data/secop_2_covid.pkl')"
   ]
  },
  {
   "cell_type": "code",
   "execution_count": null,
   "metadata": {},
   "outputs": [],
   "source": [
    "secop_un"
   ]
  }
 ],
 "metadata": {
  "kernelspec": {
   "display_name": "transparencia",
   "language": "python",
   "name": "transparencia"
  },
  "language_info": {
   "codemirror_mode": {
    "name": "ipython",
    "version": 3
   },
   "file_extension": ".py",
   "mimetype": "text/x-python",
   "name": "python",
   "nbconvert_exporter": "python",
   "pygments_lexer": "ipython3",
   "version": "3.8.3"
  }
 },
 "nbformat": 4,
 "nbformat_minor": 4
}
