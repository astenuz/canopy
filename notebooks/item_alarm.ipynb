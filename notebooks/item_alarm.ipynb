{
 "cells": [
  {
   "cell_type": "code",
   "execution_count": null,
   "metadata": {},
   "outputs": [],
   "source": [
    "import pandas as pd\n",
    "import dataset\n",
    "import sqlalchemy"
   ]
  },
  {
   "cell_type": "code",
   "execution_count": null,
   "metadata": {},
   "outputs": [],
   "source": [
    "secop_2_items = pd.read_pickle('../data/secop_2_covid_items.pkl')"
   ]
  },
  {
   "cell_type": "code",
   "execution_count": null,
   "metadata": {},
   "outputs": [],
   "source": [
    "secop_2_items.head()"
   ]
  },
  {
   "cell_type": "code",
   "execution_count": null,
   "metadata": {},
   "outputs": [],
   "source": [
    "secop_covid = pd.read_pickle('../data/secop_union_all.pickle')"
   ]
  },
  {
   "cell_type": "code",
   "execution_count": null,
   "metadata": {},
   "outputs": [],
   "source": [
    "secop_covid.columns"
   ]
  },
  {
   "cell_type": "code",
   "execution_count": null,
   "metadata": {},
   "outputs": [],
   "source": [
    "secop_covid['valor_del_contrato'] = pd.to_numeric(secop_covid.valor_del_contrato)"
   ]
  },
  {
   "cell_type": "code",
   "execution_count": null,
   "metadata": {},
   "outputs": [],
   "source": [
    "(secop_covid\n",
    "     .loc[lambda x: x.is_covid]\n",
    "     .groupby('departamento')\n",
    "     .agg(valor_promedio=('valor_del_contrato', 'sum'))\n",
    "     .reset_index()\n",
    "     .valor_promedio.mean()\n",
    ")"
   ]
  },
  {
   "cell_type": "code",
   "execution_count": null,
   "metadata": {},
   "outputs": [],
   "source": [
    "(secop_covid\n",
    "     .loc[lambda x: x.is_covid]\n",
    "     .groupby('ciudad')\n",
    "     .agg(valor_promedio=('valor_del_contrato', 'sum'))\n",
    "     .reset_index()\n",
    "     .valor_promedio.median()\n",
    ")"
   ]
  },
  {
   "cell_type": "code",
   "execution_count": null,
   "metadata": {},
   "outputs": [],
   "source": []
  },
  {
   "cell_type": "code",
   "execution_count": null,
   "metadata": {},
   "outputs": [],
   "source": [
    "secop_2_covid = secop_covid.loc[lambda x: (x.is_covid) & (x.source == 'secop_2')].copy()\n",
    "secop_2_covid.to_pickle('../data/secop_2_covid.pickle')"
   ]
  },
  {
   "cell_type": "code",
   "execution_count": null,
   "metadata": {},
   "outputs": [],
   "source": [
    "secop_2_covid.shape"
   ]
  },
  {
   "cell_type": "code",
   "execution_count": null,
   "metadata": {},
   "outputs": [],
   "source": [
    "- Codigo del contrato\n",
    "- Item (codigo)\n",
    "- Item (nombre)\n",
    "- Item (cantidad)\n",
    "- Nombre municipio\n",
    "- Descripcion contrato\n",
    "- Nombre contratista\n",
    "- Valor del contrato\n",
    "- Link secop"
   ]
  },
  {
   "cell_type": "code",
   "execution_count": null,
   "metadata": {},
   "outputs": [],
   "source": [
    "secop_join = pd.merge(\n",
    "    secop_2_covid,\n",
    "    secop_2_items,\n",
    "    how='left',\n",
    "    on='id_contrato'\n",
    ")"
   ]
  },
  {
   "cell_type": "code",
   "execution_count": null,
   "metadata": {},
   "outputs": [],
   "source": [
    "secop_join.columns"
   ]
  },
  {
   "cell_type": "code",
   "execution_count": null,
   "metadata": {},
   "outputs": [],
   "source": [
    "secop_join = secop_join[['nombre_entidad', 'nit_entidad', 'departamento', 'ciudad',\n",
    "            'proceso_de_compra', 'id_contrato',\n",
    "            'descripcion_del_proceso', 'tipo_de_contrato',\n",
    "            'modalidad_de_contratacion',\n",
    "            'documento_proveedor', 'proveedor_adjudicado',\n",
    "            'url',\n",
    "            'valor_del_contrato',\n",
    "            'item_code', 'item_description', 'item_quantity',\n",
    "            'item_unit', 'item_price']]\n",
    "\n",
    "secop_join.to_csv('../data/secop_2_covid_items_join.csv')"
   ]
  },
  {
   "cell_type": "markdown",
   "metadata": {},
   "source": [
    "## Alarm"
   ]
  },
  {
   "cell_type": "code",
   "execution_count": null,
   "metadata": {},
   "outputs": [],
   "source": [
    "from fuzzywuzzy import fuzz, process"
   ]
  },
  {
   "cell_type": "code",
   "execution_count": null,
   "metadata": {},
   "outputs": [],
   "source": [
    "precios = pd.read_csv('../data/precios.csv')"
   ]
  },
  {
   "cell_type": "code",
   "execution_count": null,
   "metadata": {},
   "outputs": [],
   "source": [
    "precios.head()"
   ]
  },
  {
   "cell_type": "code",
   "execution_count": null,
   "metadata": {},
   "outputs": [],
   "source": [
    "precios = (precios\n",
    " .loc[lambda x: x.precio_techo!='-']\n",
    " .assign(precio_techo = lambda x: pd.to_numeric(x.precio_techo, errors='coerce'))\n",
    ")"
   ]
  },
  {
   "cell_type": "code",
   "execution_count": null,
   "metadata": {},
   "outputs": [],
   "source": [
    "precios = precios.reset_index().rename(columns={'index':'id'})"
   ]
  },
  {
   "cell_type": "code",
   "execution_count": null,
   "metadata": {},
   "outputs": [],
   "source": [
    "# save this verison of precios for future reference\n",
    "precios.to_feather('../data/precios_reference.feather')\n",
    "precios.to_pickle('../data/precios_reference.pickle')"
   ]
  },
  {
   "cell_type": "code",
   "execution_count": null,
   "metadata": {},
   "outputs": [],
   "source": [
    "secop_join['items_per_contract'] = secop_join.groupby('id_contrato')['item_description'].transform('count')\n",
    "secop_join_valid = secop_join.loc[lambda x: ~(x.items_per_contract == 1) | ~(x.item_quantity == 1)]"
   ]
  },
  {
   "cell_type": "code",
   "execution_count": null,
   "metadata": {},
   "outputs": [],
   "source": [
    "secop_join_valid = secop_join_valid.loc[lambda x: x.tipo_de_contrato.isin(['Compraventa', 'Suministros'])]"
   ]
  },
  {
   "cell_type": "code",
   "execution_count": null,
   "metadata": {},
   "outputs": [],
   "source": [
    "secop_join_valid.groupby('tipo_de_contrato').agg(n=('id_contrato', 'count'))"
   ]
  },
  {
   "cell_type": "markdown",
   "metadata": {},
   "source": [
    "preprocess item texts and external items"
   ]
  },
  {
   "cell_type": "code",
   "execution_count": null,
   "metadata": {},
   "outputs": [],
   "source": [
    "from toolz import curry\n",
    "from toolz.functoolz import pipe\n",
    "\n",
    "\n",
    "@curry\n",
    "def remove_pattern(pattern, series: pd.Series):\n",
    "    return series.str.replace(pattern, '')\n",
    "\n",
    "\n",
    "class TextPreprocessor:\n",
    "\n",
    "    def __init__(self):\n",
    "        self._init_pipeline()\n",
    "\n",
    "    def _init_pipeline(self):\n",
    "        # Get rid of URLs\n",
    "        text_operations = [\n",
    "            # Get rid of URLs\n",
    "            remove_pattern('http[s]?://(?:[a-zA-Z]|[0-9]|[$-_@.&+]|[!*\\(\\),]|(?:%[0-9a-fA-F][0-9a-fA-F]))+'),\n",
    "            # Take out retweet header, there is only one\n",
    "            remove_pattern('RT @[a-z,A-Z]*: '),\n",
    "            # Get rid of hashtags\n",
    "            remove_pattern('#'),\n",
    "            # Get rid of references to other screennames\n",
    "            remove_pattern('@[a-z,A-Z]*'),\n",
    "            # everything thats no a number or space\n",
    "            remove_pattern('[^\\w\\s]'),\n",
    "            lambda series: series.str.replace('\\s\\s+', ' '),\n",
    "            # strip series entries\n",
    "            lambda series: series.str.strip()\n",
    "        ]\n",
    "\n",
    "        self.text_pipeline = lambda data: pipe(data, *text_operations)\n",
    "\n",
    "    def preprocess(self, texts: pd.Series):\n",
    "        return self.text_pipeline(texts)\n"
   ]
  },
  {
   "cell_type": "code",
   "execution_count": null,
   "metadata": {},
   "outputs": [],
   "source": [
    "secop_join_valid['item_description'] = secop_join_valid.item_description.str.lower()\n",
    "precios['producto'] = precios.producto.str.lower()"
   ]
  },
  {
   "cell_type": "code",
   "execution_count": null,
   "metadata": {},
   "outputs": [],
   "source": [
    "preprocessor = TextPreprocessor()\n",
    "secop_join_valid['item_description_clean'] = preprocessor.preprocess(secop_join_valid.item_description)\n",
    "precios['producto_clean'] = preprocessor.preprocess(precios.producto)"
   ]
  },
  {
   "cell_type": "code",
   "execution_count": null,
   "metadata": {},
   "outputs": [],
   "source": [
    "class ItemMatcher:\n",
    "    def __init__(self, items, score_cutoff=80):\n",
    "        # TODO separate into price and \n",
    "        self.items = items\n",
    "        self.score_cutoff = score_cutoff\n",
    "        \n",
    "    def find_match(self, item_description):\n",
    "        if item_description:\n",
    "            return process.extractOne(item_description, self.items, scorer = fuzz.partial_ratio, score_cutoff=self.score_cutoff)\n",
    "        else:\n",
    "            return None"
   ]
  },
  {
   "cell_type": "code",
   "execution_count": null,
   "metadata": {},
   "outputs": [],
   "source": [
    "item_matcher = ItemMatcher(precios.producto_clean, score_cutoff=0)"
   ]
  },
  {
   "cell_type": "markdown",
   "metadata": {},
   "source": [
    "Only in suministros and compraventa"
   ]
  },
  {
   "cell_type": "markdown",
   "metadata": {},
   "source": [
    "Matches"
   ]
  },
  {
   "cell_type": "code",
   "execution_count": null,
   "metadata": {},
   "outputs": [],
   "source": [
    "item_matches = secop_join_valid.item_description_clean.apply(item_matcher.find_match)"
   ]
  },
  {
   "cell_type": "code",
   "execution_count": null,
   "metadata": {},
   "outputs": [],
   "source": [
    "item_matches_df = pd.DataFrame(item_matches.tolist(), columns = ['closest_match', 'score', 'match_id'])\n",
    "item_matches_df = item_matches_df.loc[lambda x: x.score >= 70]"
   ]
  },
  {
   "cell_type": "code",
   "execution_count": null,
   "metadata": {},
   "outputs": [],
   "source": [
    "item_matches_df = (\n",
    "    pd.merge(item_matches_df, precios, left_on='match_id', right_on = 'id')\n",
    "    .drop(columns=['closest_match', 'id'])\n",
    ")"
   ]
  },
  {
   "cell_type": "code",
   "execution_count": null,
   "metadata": {},
   "outputs": [],
   "source": [
    "secop_join_valid_w_match = secop_join_valid.join(item_matches_df, how='left')"
   ]
  },
  {
   "cell_type": "code",
   "execution_count": null,
   "metadata": {},
   "outputs": [],
   "source": [
    "secop_join_valid_w_match = secop_join_valid_w_match.assign(\n",
    "    alarma_sobrecosto = lambda x: x.item_price > x.precio_techo\n",
    ")"
   ]
  },
  {
   "cell_type": "code",
   "execution_count": null,
   "metadata": {},
   "outputs": [],
   "source": [
    "secop_join_valid_w_match.to_csv('../data/secop_join_suministros_w_sobrecosto.csv')"
   ]
  },
  {
   "cell_type": "markdown",
   "metadata": {},
   "source": [
    "Contracts with no or with a single item"
   ]
  },
  {
   "cell_type": "code",
   "execution_count": null,
   "metadata": {},
   "outputs": [],
   "source": [
    "secop_join_singleitem = (secop_join\n",
    "    .loc[lambda x: (x.item_code.isnull()) | ((x.items_per_contract == 1) & (x.item_quantity == 1))]\n",
    "    .loc[lambda x: x.tipo_de_contrato.isin(['Compraventa', 'Suministros'])]\n",
    ")"
   ]
  },
  {
   "cell_type": "code",
   "execution_count": null,
   "metadata": {},
   "outputs": [],
   "source": [
    "(secop_join_singleitem\n",
    "     .drop(['item_code',\n",
    "       'item_description', 'item_quantity', 'item_unit', 'item_price'], axis = 1)\n",
    "     .to_csv('../data/secop_2_covid_singleitem.csv')\n",
    ")"
   ]
  },
  {
   "cell_type": "code",
   "execution_count": null,
   "metadata": {},
   "outputs": [],
   "source": []
  }
 ],
 "metadata": {
  "kernelspec": {
   "display_name": "Python 3",
   "language": "python",
   "name": "python3"
  },
  "language_info": {
   "codemirror_mode": {
    "name": "ipython",
    "version": 3
   },
   "file_extension": ".py",
   "mimetype": "text/x-python",
   "name": "python",
   "nbconvert_exporter": "python",
   "pygments_lexer": "ipython3",
   "version": "3.8.3"
  }
 },
 "nbformat": 4,
 "nbformat_minor": 4
}
