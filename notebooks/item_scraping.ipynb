{
 "cells": [
  {
   "cell_type": "code",
   "execution_count": null,
   "metadata": {},
   "outputs": [],
   "source": [
    "from alarms.costs import ItemFinderSecop2, Item\n",
    "import pandas as pd\n",
    "pd.options.display.max_columns = None"
   ]
  },
  {
   "cell_type": "code",
   "execution_count": null,
   "metadata": {},
   "outputs": [],
   "source": [
    "secop_union = pd.read_pickle('../data/secop_union_all.pickle')"
   ]
  },
  {
   "cell_type": "code",
   "execution_count": null,
   "metadata": {},
   "outputs": [],
   "source": [
    "secop_2_covid = secop_union.loc[lambda x: (x.source == 'secop_2') & (x.is_covid)]\n",
    "urls = secop_2_covid.url"
   ]
  },
  {
   "cell_type": "code",
   "execution_count": null,
   "metadata": {},
   "outputs": [],
   "source": [
    "urls.shape"
   ]
  },
  {
   "cell_type": "code",
   "execution_count": null,
   "metadata": {},
   "outputs": [],
   "source": [
    "import time\n",
    "import pickle\n",
    "import numpy as np\n",
    "from tqdm import tqdm"
   ]
  },
  {
   "cell_type": "code",
   "execution_count": null,
   "metadata": {},
   "outputs": [],
   "source": [
    "item_lists = []\n",
    "finder = ItemFinderSecop2()\n",
    "\n",
    "for url in tqdm(urls):\n",
    "    try:\n",
    "        items = finder.find_items(url)\n",
    "        item_lists.append(items)\n",
    "    except Exception:\n",
    "        item_lists.append(None)\n",
    "    \n",
    "    time.sleep(np.random.uniform(0,0.5))"
   ]
  },
  {
   "cell_type": "code",
   "execution_count": null,
   "metadata": {},
   "outputs": [],
   "source": [
    "# item_lists[1000]"
   ]
  },
  {
   "cell_type": "code",
   "execution_count": null,
   "metadata": {},
   "outputs": [],
   "source": [
    "len(item_lists)"
   ]
  },
  {
   "cell_type": "code",
   "execution_count": null,
   "metadata": {},
   "outputs": [],
   "source": [
    "with open('../data/item_lists.pkl', 'wb') as f:\n",
    "    pickle.dump(item_lists, f)"
   ]
  },
  {
   "cell_type": "code",
   "execution_count": null,
   "metadata": {},
   "outputs": [],
   "source": [
    "secop_2_items = secop_2_covid[['id_contrato']].copy()"
   ]
  },
  {
   "cell_type": "code",
   "execution_count": null,
   "metadata": {},
   "outputs": [],
   "source": [
    "secop_2_items['item_list'] = item_lists\n",
    "secop_2_items = secop_2_items.explode('item_list')"
   ]
  },
  {
   "cell_type": "code",
   "execution_count": null,
   "metadata": {},
   "outputs": [],
   "source": [
    "default_item = Item(None, None,None,None, None)\n",
    "secop_2_items['item_list'] = secop_2_items.item_list.fillna(default_item)\n",
    "\n",
    "item_cols = list(map(lambda c: 'item_{}'.format(c), ['code', 'description', 'quantity', 'unit', 'price']))\n",
    "secop_2_items[item_cols] = secop_2_items.apply(lambda x: x.item_list.as_dict(), axis=1, result_type=\"expand\")"
   ]
  },
  {
   "cell_type": "code",
   "execution_count": null,
   "metadata": {},
   "outputs": [],
   "source": [
    "secop_2_items.drop('item_list', axis=1).to_pickle('../data/secop_2_covid_items.pkl')\n",
    "secop_2_items.drop('item_list', axis=1).to_csv('../data/secop_2_covid_items.csv')"
   ]
  },
  {
   "cell_type": "code",
   "execution_count": null,
   "metadata": {},
   "outputs": [],
   "source": [
    "secop_2_items.drop('item_list', axis=1).to_feather('../data/secop_2_covid_items.feather')"
   ]
  },
  {
   "cell_type": "code",
   "execution_count": null,
   "metadata": {},
   "outputs": [],
   "source": [
    "secop_2_items.head()"
   ]
  },
  {
   "cell_type": "markdown",
   "metadata": {},
   "source": [
    "## exploration"
   ]
  },
  {
   "cell_type": "code",
   "execution_count": null,
   "metadata": {},
   "outputs": [],
   "source": [
    "item_counts = secop_2_items.groupby('item_description').agg(n = ('item_description', 'count')).reset_index()"
   ]
  },
  {
   "cell_type": "code",
   "execution_count": null,
   "metadata": {},
   "outputs": [],
   "source": [
    "shared = item_counts.loc[lambda x: (x.n>1)].sort_values('n', ascending=False)"
   ]
  },
  {
   "cell_type": "code",
   "execution_count": null,
   "metadata": {},
   "outputs": [],
   "source": [
    "secop_2_items['item_description'] = secop_2_items['item_description'].fillna('NA')"
   ]
  },
  {
   "cell_type": "code",
   "execution_count": null,
   "metadata": {},
   "outputs": [],
   "source": [
    "tecnicos = secop_2_items.loc[lambda x: x.item_description.str.contains('TECNICO EN AUXILIAR DE ENFERMERIA')]"
   ]
  },
  {
   "cell_type": "code",
   "execution_count": null,
   "metadata": {},
   "outputs": [],
   "source": [
    "tecnicos.groupby('id_contrato').agg(n=('id_contrato', 'count'))"
   ]
  },
  {
   "cell_type": "code",
   "execution_count": null,
   "metadata": {},
   "outputs": [],
   "source": [
    "secop_2_covid.loc[lambda x: x.id_contrato=='CO1.PCCNTR.1577446'].url.iloc[0]"
   ]
  },
  {
   "cell_type": "code",
   "execution_count": null,
   "metadata": {},
   "outputs": [],
   "source": [
    "shared.loc[lambda x: ~x.item_description.str.lower().str.contains('tecnico|prestaci|municipio|valor|honorarios')].tail(50)"
   ]
  },
  {
   "cell_type": "code",
   "execution_count": null,
   "metadata": {},
   "outputs": [],
   "source": [
    "shared.iloc[100]"
   ]
  },
  {
   "cell_type": "code",
   "execution_count": null,
   "metadata": {},
   "outputs": [],
   "source": [
    "secop_2_covid.groupby('tipo_de_contrato').agg(n=('tipo_de_contrato', 'count')).reset_index()"
   ]
  },
  {
   "cell_type": "code",
   "execution_count": null,
   "metadata": {},
   "outputs": [],
   "source": [
    "secop_2_covid.loc[lambda x: x.tipo_de_contrato=='Arrendamiento de inmuebles'].iloc[0]"
   ]
  },
  {
   "cell_type": "code",
   "execution_count": null,
   "metadata": {},
   "outputs": [],
   "source": [
    "secop_2_covid.loc[lambda x: x.tipo_de_contrato=='Suministros'].iloc[3]"
   ]
  },
  {
   "cell_type": "code",
   "execution_count": null,
   "metadata": {},
   "outputs": [],
   "source": [
    "# secop_1_covid.detalle_del_objeto_a_contratar\n",
    "secop_1_covid.loc[lambda x: x.detalle_del_objeto_a_contratar.str.lower().str.contains('guantes')].shape"
   ]
  },
  {
   "cell_type": "code",
   "execution_count": null,
   "metadata": {},
   "outputs": [],
   "source": [
    "secop_1_covid.groupby('regimen_de_contratacion').agg(n=('regimen_de_contratacion', 'count'))"
   ]
  },
  {
   "cell_type": "code",
   "execution_count": null,
   "metadata": {},
   "outputs": [],
   "source": [
    "secop_1_covid"
   ]
  },
  {
   "cell_type": "code",
   "execution_count": null,
   "metadata": {},
   "outputs": [],
   "source": [
    "secop_2_covid.loc[lambda x: x.proceso_de_compra=='CO1.BDOS.1000964'].iloc[0].url"
   ]
  },
  {
   "cell_type": "code",
   "execution_count": null,
   "metadata": {},
   "outputs": [],
   "source": []
  }
 ],
 "metadata": {
  "kernelspec": {
   "display_name": "transparencia",
   "language": "python",
   "name": "transparencia"
  },
  "language_info": {
   "codemirror_mode": {
    "name": "ipython",
    "version": 3
   },
   "file_extension": ".py",
   "mimetype": "text/x-python",
   "name": "python",
   "nbconvert_exporter": "python",
   "pygments_lexer": "ipython3",
   "version": "3.8.3"
  }
 },
 "nbformat": 4,
 "nbformat_minor": 4
}
